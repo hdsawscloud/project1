{
  "nbformat": 4,
  "nbformat_minor": 0,
  "metadata": {
    "colab": {
      "provenance": []
    },
    "kernelspec": {
      "name": "python3",
      "display_name": "Python 3"
    },
    "language_info": {
      "name": "python"
    }
  },
  "cells": [
    {
      "cell_type": "code",
      "execution_count": 3,
      "metadata": {
        "colab": {
          "base_uri": "https://localhost:8080/"
        },
        "id": "rEBnUMZHugiV",
        "outputId": "f4786813-562d-417c-8d97-ae9e6b8827f5"
      },
      "outputs": [
        {
          "output_type": "stream",
          "name": "stdout",
          "text": [
            "Enter your GitHub token: ··········\n",
            "Total users fetched: 505\n"
          ]
        }
      ],
      "source": [
        "import requests\n",
        "import pandas as pd\n",
        "import time\n",
        "from getpass import getpass\n",
        "\n",
        "# GitHub Authentication\n",
        "token = getpass(\"Enter your GitHub token: \")\n",
        "headers = {\n",
        "    'Authorization': f'Bearer {token}',\n",
        "    'Accept': 'application/vnd.github+json'\n",
        "}\n",
        "\n",
        "# Parameters for User Search\n",
        "city = \"Hyderabad\"\n",
        "min_followers = 50\n",
        "users_data = []\n",
        "\n",
        "# Function to fetch users in Hyderabad with over 50 followers\n",
        "def fetch_users():\n",
        "    page = 1\n",
        "    while True:\n",
        "        url = f\"https://api.github.com/search/users?q=location:{city}+followers:>{min_followers}&per_page=100&page={page}\"\n",
        "        response = requests.get(url, headers=headers)\n",
        "        data = response.json()\n",
        "\n",
        "        # Break if no more users\n",
        "        if 'items' not in data:\n",
        "            break\n",
        "\n",
        "        # Append user data\n",
        "        for user in data['items']:\n",
        "            users_data.append(user['login'])\n",
        "\n",
        "        # Check for pagination\n",
        "        if 'next' not in response.links:\n",
        "            break\n",
        "\n",
        "        page += 1\n",
        "        time.sleep(1)  # Avoid rate limits\n",
        "\n",
        "fetch_users()\n",
        "print(f\"Total users fetched: {len(users_data)}\")\n"
      ]
    },
    {
      "cell_type": "code",
      "source": [
        "def fetch_user_details():\n",
        "    for login in users_data:\n",
        "        user_url = f\"https://api.github.com/users/{login}\"\n",
        "        repos_url = f\"https://api.github.com/users/{login}/repos?per_page=100\"\n",
        "\n",
        "        # Get user details\n",
        "        user_response = requests.get(user_url, headers=headers)\n",
        "        user_info = user_response.json()\n",
        "\n",
        "        # Append cleaned user details\n",
        "        user_details.append({\n",
        "            'login': user_info.get('login', ''),\n",
        "            'name': user_info.get('name', ''),\n",
        "            'company': clean_company_name(user_info.get('company', '')),\n",
        "            'location': user_info.get('location', ''),\n",
        "            'email': user_info.get('email', ''),\n",
        "            'hireable': str(user_info.get('hireable', '')),\n",
        "            'bio': user_info.get('bio', ''),\n",
        "            'public_repos': user_info.get('public_repos', 0),\n",
        "            'followers': user_info.get('followers', 0),\n",
        "            'following': user_info.get('following', 0),\n",
        "            'created_at': user_info.get('created_at', '')\n",
        "        })\n",
        "\n",
        "        # Get repository details for each user\n",
        "        repo_response = requests.get(repos_url, headers=headers)\n",
        "        repos = repo_response.json()\n",
        "\n",
        "        for repo in repos[:500]:  # Limit to 500 most recent\n",
        "            repositories_data.append({\n",
        "                'login': login,\n",
        "                'full_name': repo.get('full_name', ''),\n",
        "                'created_at': repo.get('created_at', ''),\n",
        "                'stargazers_count': repo.get('stargazers_count', 0),\n",
        "                'watchers_count': repo.get('watchers_count', 0),\n",
        "                'language': repo.get('language', ''),\n",
        "                'has_projects': str(repo.get('has_projects', '')),\n",
        "                'has_wiki': str(repo.get('has_wiki', '')),\n",
        "                'license_name': repo.get('license', {}).get('key', '') if repo.get('license') else ''\n",
        "            })\n",
        "        time.sleep(1)  # Avoid rate limits\n",
        "\n",
        "fetch_user_details()\n",
        "print(\"Fetched detailed data for all users.\")\n"
      ],
      "metadata": {
        "colab": {
          "base_uri": "https://localhost:8080/"
        },
        "id": "_raN_NiqvYDL",
        "outputId": "77151a9a-2ecd-46fb-801f-df863222621e"
      },
      "execution_count": 5,
      "outputs": [
        {
          "output_type": "stream",
          "name": "stdout",
          "text": [
            "Fetched detailed data for all users.\n"
          ]
        }
      ]
    },
    {
      "cell_type": "code",
      "source": [
        "# Convert to DataFrames\n",
        "users_df = pd.DataFrame(user_details)\n",
        "repos_df = pd.DataFrame(repositories_data)\n",
        "\n",
        "# Save to CSV\n",
        "users_df.to_csv('users.csv', index=False)\n",
        "repos_df.to_csv('repositories.csv', index=False)\n",
        "print(\"Data saved to users.csv and repositories.csv\")\n"
      ],
      "metadata": {
        "colab": {
          "base_uri": "https://localhost:8080/"
        },
        "id": "jVnbMeqnzJF1",
        "outputId": "110dcacc-7556-402c-c367-b6a90637ea5e"
      },
      "execution_count": 6,
      "outputs": [
        {
          "output_type": "stream",
          "name": "stdout",
          "text": [
            "Data saved to users.csv and repositories.csv\n"
          ]
        }
      ]
    }
  ]
}